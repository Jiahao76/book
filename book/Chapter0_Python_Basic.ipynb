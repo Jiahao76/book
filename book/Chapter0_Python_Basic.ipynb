{
 "cells": [
  {
   "cell_type": "markdown",
   "metadata": {},
   "source": [
    "# Chapter 0: Python Basic\n",
    "\n"
   ]
  },
  {
   "cell_type": "markdown",
   "metadata": {},
   "source": [
    "We will use Python throughout the courses. The reason we choose Python is because it is wildly used. It is a tool that most data scientists use at work. And it is also becoming more and more populat in academia.\n",
    "\n",
    "This is not an introductory course to Python. I will cover the basic syntax of Python. We will use it more as a tool to achieve our goal: to learn about probability, statistics, econometrics, times series analysis, causal inference and machine learning. If you are interested in learning Python more, you should look for some other materials. \n",
    "\n",
    "We may not cover all we need from Python in this chapter. This chapter just familiarizes you of the language."
   ]
  }
 ],
 "metadata": {
  "kernelspec": {
   "display_name": "Python 3",
   "language": "python",
   "name": "python3"
  },
  "language_info": {
   "codemirror_mode": {
    "name": "ipython",
    "version": 3
   },
   "file_extension": ".py",
   "mimetype": "text/x-python",
   "name": "python",
   "nbconvert_exporter": "python",
   "pygments_lexer": "ipython3",
   "version": "3.8.0"
  },
  "widgets": {
   "application/vnd.jupyter.widget-state+json": {
    "state": {},
    "version_major": 2,
    "version_minor": 0
   }
  }
 },
 "nbformat": 4,
 "nbformat_minor": 4
}
